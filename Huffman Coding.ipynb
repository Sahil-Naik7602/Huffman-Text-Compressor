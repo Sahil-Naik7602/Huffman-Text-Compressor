{
 "cells": [
  {
   "cell_type": "markdown",
   "id": "fbc18e99",
   "metadata": {},
   "source": [
    "<h1><center>Huffman Coding</center></h1>\n",
    "\n",
    "It is a text compression algorithm. It promotes variable length codes. Those characters which are occuring in high frequency, shpuld acquire less space and vice-versa.\n",
    "    \n",
    "    "
   ]
  },
  {
   "cell_type": "markdown",
   "id": "0f6055e5",
   "metadata": {},
   "source": [
    "Picture Of E.g. of huffman Coding"
   ]
  },
  {
   "cell_type": "markdown",
   "id": "ee9cbe30",
   "metadata": {},
   "source": [
    "Picture of Decompression Of Huffman Coding"
   ]
  },
  {
   "cell_type": "code",
   "execution_count": 1,
   "id": "bb02ef6b",
   "metadata": {},
   "outputs": [],
   "source": [
    "import os\n",
    "import heapq\n",
    "class BinaryTreeNode:\n",
    "    def __init__(self,value,freq):\n",
    "        self.value = value\n",
    "        self.freq = freq\n",
    "        self.left = None\n",
    "        self.right = None\n",
    "    def __lt__(self,other):\n",
    "        return self.freq < other.freq\n",
    "    def __eq__(self,other):\n",
    "        return self.freq == other.freq\n",
    "\n",
    "class HuffmanCoding:\n",
    "    \n",
    "    def __init__(self,path):\n",
    "        self.path=path\n",
    "        self.__heap = []\n",
    "        self.__codes = {}\n",
    "        self.__reverseCodes = {}\n",
    "        \n",
    "    def __make_frequency_dict(self,text):\n",
    "        freq_dict = {}\n",
    "        for char in text:\n",
    "            freq_dict[char] = freq_dict.get(char,0)+1\n",
    "        return freq_dict\n",
    "    \n",
    "    def __buildHeap(self,freq_dict):\n",
    "        for key in freq_dict:\n",
    "            frequency=freq_dict[key]\n",
    "            binary_tree_node=BinaryTreeNode(key,frequency)\n",
    "            heapq.heappush(self.__heap,binary_tree_node)\n",
    "    \n",
    "    def __buildTree(self):\n",
    "        while len(self.__heap) > 1:\n",
    "            binary_tree_node_1 = heapq.heappop(self.__heap)\n",
    "            binary_tree_node_2 = heapq.heappop(self.__heap)\n",
    "            freq_sum = binary_tree_node_1.freq + binary_tree_node_2.freq\n",
    "            newNode = BinaryTreeNode(None,freq_sum)\n",
    "            newNode.left = binary_tree_node_1\n",
    "            newNode.right = binary_tree_node_2\n",
    "            heapq.heappush(self.__heap,newNode)\n",
    "    \n",
    "    def __buildCodes(self):\n",
    "        root = heapq.heappop(self.__heap)\n",
    "        self.__buildCodesHelper(root,\"\")\n",
    "        \n",
    "    def __buildCodesHelper(self,root,curr_bits):\n",
    "        if root is None:\n",
    "            return\n",
    "        if root.value is not None:\n",
    "            self.__codes[root.value] = curr_bits\n",
    "            self.__reverseCodes[curr_bits] = root.value\n",
    "            return \n",
    "        self.__buildCodesHelper(root.left,curr_bits+\"0\")\n",
    "        self.__buildCodesHelper(root.right,curr_bits+\"1\")\n",
    "    \n",
    "    def __getEncodedText(self,text):\n",
    "        encoded_text = ''\n",
    "        for char in text:\n",
    "            encoded_text += self.__codes[char]\n",
    "        return encoded_text\n",
    "    \n",
    "    def __getPaddedEncodedtext(self,encoded_text):\n",
    "            padded_amount = 8 - len(encoded_text)%8\n",
    "            for i in range(padded_amount):\n",
    "                encoded_text += '0'\n",
    "                \n",
    "            padded_info = \"{0:08b}\".format(padded_amount)\n",
    "            padded_encoded_text = padded_info + encoded_text\n",
    "            return padded_encoded_text\n",
    "            \n",
    "    def __getBytesArray(self,padded_encoded_text):\n",
    "        bytes_array = list()\n",
    "        for i in range(0,len(padded_encoded_text),8):\n",
    "            byte=padded_encoded_text[i:i+8]\n",
    "            bytes_array.append(int(byte,2))\n",
    "        \n",
    "        return bytes_array\n",
    "        \n",
    "    def compress(self):\n",
    "        #get file from path\n",
    "        file_name,file_extension = os.path.splitext(self.path)\n",
    "        output_path = file_name + '.bin'\n",
    "        \n",
    "        #read text from file\n",
    "        with open(self.path,'r+') as file, open(output_path,'wb') as output:\n",
    "            text = file.read()\n",
    "            text = text.rstrip()\n",
    "        \n",
    "            #create the frequency dictionary from the text\n",
    "            freq_dict = self.__make_frequency_dict(text)\n",
    "\n",
    "            #construct the heap from the frequency_dict\n",
    "            self.__buildHeap(freq_dict)\n",
    "\n",
    "            #construct the biary_tree from the heap\n",
    "            self.__buildTree()\n",
    "\n",
    "            #Construct the binary Codes from this tree\n",
    "            self.__buildCodes()\n",
    "\n",
    "            #Creating the encoded text using the codes\n",
    "            encoded_text = self.__getEncodedText(text)\n",
    "\n",
    "            #pad this encoded text\n",
    "            padded_encoded_text = self.__getPaddedEncodedtext(encoded_text)\n",
    "\n",
    "            #put this encoded text into binary file\n",
    "            bytes_array = self.__getBytesArray(padded_encoded_text)\n",
    "\n",
    "            #return the binary file\n",
    "            final_bytes = bytes(bytes_array)\n",
    "            \n",
    "            output.write(final_bytes)\n",
    "        print(\"Compressed\")\n",
    "        return output_path\n",
    "    \n",
    "    def __removePadding(self,bit_string):\n",
    "        padCode = bit_string[:8]\n",
    "        padCode_int = int(padCode,2)\n",
    "        actual_text = bit_string[8:-1*padCode_int]\n",
    "        return actual_text\n",
    "        \n",
    "    def __decodeText(self,text):\n",
    "        decoded_text = ''\n",
    "        current_bits = ''\n",
    "        for bit in text:\n",
    "            current_bits += bit\n",
    "            if current_bits in self.__reverseCodes:\n",
    "                character = self.__reverseCodes[current_bits]\n",
    "                decoded_text += character\n",
    "                current_bits = ''\n",
    "        return decoded_text\n",
    "        \n",
    "    def decompress(self,input_path):\n",
    "        filename,file_extension = os.path.splitext(self.path)\n",
    "        output_path = filename + \"_decompressed\" + '.txt'\n",
    "        with open(input_path,'rb') as file , open(output_path,'w') as output:\n",
    "            bit_string = ''\n",
    "            byte = file.read(1)\n",
    "            while byte:\n",
    "                byte = ord(byte)\n",
    "                bits = bin(byte)[2:].rjust(8,'0')\n",
    "                bit_string += bits\n",
    "                byte  = file.read(1)\n",
    "            actual_text = self.__removePadding(bit_string)\n",
    "            decompressed_text = self.__decodeText(actual_text)\n",
    "            output.write(decompressed_text)\n",
    "        print('Decompressed')\n",
    "        return output_path"
   ]
  },
  {
   "cell_type": "markdown",
   "id": "fe7e43ee",
   "metadata": {},
   "source": [
    "### Compression"
   ]
  },
  {
   "cell_type": "code",
   "execution_count": 2,
   "id": "935ae0c6",
   "metadata": {},
   "outputs": [
    {
     "name": "stdout",
     "output_type": "stream",
     "text": [
      "Compressed\n"
     ]
    }
   ],
   "source": [
    "path = 'sample.txt'\n",
    "h = HuffmanCoding(path)\n",
    "output_path = h.compress()"
   ]
  },
  {
   "cell_type": "code",
   "execution_count": 3,
   "id": "0e6ac656",
   "metadata": {},
   "outputs": [
    {
     "name": "stdout",
     "output_type": "stream",
     "text": [
      "sample.bin\n"
     ]
    }
   ],
   "source": [
    "print(output_path)"
   ]
  },
  {
   "cell_type": "markdown",
   "id": "a1dc34c3",
   "metadata": {},
   "source": [
    "### Decompress"
   ]
  },
  {
   "cell_type": "code",
   "execution_count": 4,
   "id": "b549fc7d",
   "metadata": {},
   "outputs": [
    {
     "name": "stdout",
     "output_type": "stream",
     "text": [
      "Decompressed\n",
      "sample_decompressed.txt\n"
     ]
    }
   ],
   "source": [
    "output_path = h.decompress('sample.bin')\n",
    "print(output_path)"
   ]
  }
 ],
 "metadata": {
  "kernelspec": {
   "display_name": "Python 3 (ipykernel)",
   "language": "python",
   "name": "python3"
  },
  "language_info": {
   "codemirror_mode": {
    "name": "ipython",
    "version": 3
   },
   "file_extension": ".py",
   "mimetype": "text/x-python",
   "name": "python",
   "nbconvert_exporter": "python",
   "pygments_lexer": "ipython3",
   "version": "3.10.0"
  }
 },
 "nbformat": 4,
 "nbformat_minor": 5
}
